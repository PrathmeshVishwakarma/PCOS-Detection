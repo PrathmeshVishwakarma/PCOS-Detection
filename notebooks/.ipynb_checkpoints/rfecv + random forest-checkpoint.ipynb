{
 "cells": [
  {
   "cell_type": "code",
   "execution_count": 1,
   "id": "ae468260-b8b2-419c-9917-d9aeee35901f",
   "metadata": {},
   "outputs": [
    {
     "name": "stderr",
     "output_type": "stream",
     "text": [
      "/Users/prathmesh/asep_project/venv/lib/python3.11/site-packages/tqdm/auto.py:21: TqdmWarning: IProgress not found. Please update jupyter and ipywidgets. See https://ipywidgets.readthedocs.io/en/stable/user_install.html\n",
      "  from .autonotebook import tqdm as notebook_tqdm\n"
     ]
    }
   ],
   "source": [
    "import pandas as pd\n",
    "import numpy as np\n",
    "from sklearn.preprocessing import StandardScaler\n",
    "from sklearn.impute import KNNImputer\n",
    "from sklearn.model_selection import train_test_split, KFold, StratifiedKFold\n",
    "from sklearn.metrics import accuracy_score, precision_score, recall_score, f1_score\n",
    "from sklearn.ensemble import RandomForestClassifier\n",
    "import optuna\n",
    "from sklearn.feature_selection import RFECV\n",
    "from sklearn.linear_model import LogisticRegressionCV\n",
    "import joblib"
   ]
  },
  {
   "cell_type": "code",
   "execution_count": 2,
   "id": "20864616-0095-40a0-94bc-c10071e3900e",
   "metadata": {},
   "outputs": [],
   "source": [
    "# Load both datasets\n",
    "original = pd.read_csv(\"PCOS_data.csv\")\n",
    "new = pd.read_csv(\"pcos_dataset.csv\")\n",
    "\n",
    "# Set max columns to show is unlimited\n",
    "pd.set_option('display.max_columns', None)"
   ]
  },
  {
   "cell_type": "code",
   "execution_count": 3,
   "id": "da865d79-aa70-4b23-9d0a-2b45791d685b",
   "metadata": {},
   "outputs": [],
   "source": [
    "def preprocess(df):\n",
    "    df = df.copy()  # avoid SettingWithCopyWarning\n",
    "\n",
    "    # 1. Clean column names\n",
    "    df.columns = df.columns.str.strip() \\\n",
    "                           .str.replace(' ', '_') \\\n",
    "                           .str.replace('(', '') \\\n",
    "                           .str.replace(')', '') \\\n",
    "                           .str.replace('.', '') \\\n",
    "                           .str.replace('-', '_') \\\n",
    "                           .str.replace('/', '_')\n",
    "    df.rename(columns={'II____beta_HCGmIU_mL': 'II_beta_HCG'}, inplace=True)\n",
    "\n",
    "    # 2. Drop irrelevant columns\n",
    "    df.drop(columns=['Sl_No', 'Patient_File_No'], inplace=True, errors='ignore')\n",
    "    df = df.loc[:, ~df.columns.str.startswith('Unnamed')]\n",
    "\n",
    "    # 3. Merge Age columns\n",
    "    if 'Age' not in df.columns and 'Age_yrs' in df.columns:\n",
    "        df.rename(columns={'Age_yrs': 'Age'}, inplace=True)\n",
    "    elif 'Age' in df.columns and 'Age_yrs' in df.columns:\n",
    "        df['Age'] = df['Age'].fillna(df['Age_yrs'])\n",
    "        df.drop(columns=['Age_yrs'], inplace=True)\n",
    "\n",
    "    # 4. Merge PCOS diagnosis columns\n",
    "    if 'PCOS_Diagnosis' in df.columns:\n",
    "        df.rename(columns={'PCOS_Diagnosis': 'PCOS_Y_N'}, inplace=True)\n",
    "\n",
    "    # 5. Handle missing values\n",
    "    if 'Marraige_Status_Yrs' in df.columns:\n",
    "        df.loc[:, 'Marraige_Status_Yrs'] = df['Marraige_Status_Yrs'].fillna(df['Marraige_Status_Yrs'].median())\n",
    "\n",
    "    if 'Fast_food_Y_N' not in df.columns and 'Fast_food_YN' in df.columns:\n",
    "        df.rename(columns={'Fast_food_YN': 'Fast_food_Y_N'}, inplace=True)\n",
    "    if 'Fast_food_Y_N' in df.columns:\n",
    "        df.loc[:, 'Fast_food_Y_N'] = df['Fast_food_Y_N'].fillna(df['Fast_food_Y_N'].mode()[0])\n",
    "\n",
    "    # 6. Convert to numeric and fill missing values\n",
    "    if 'II_beta_HCG' not in df.columns and 'II_beta_HCGmIU_mL' in df.columns:\n",
    "        df.rename(columns={'II_beta_HCGmIU_mL': 'II_beta_HCG'}, inplace=True)\n",
    "    if 'II_beta_HCG' in df.columns:\n",
    "        df.loc[:, 'II_beta_HCG'] = pd.to_numeric(df['II_beta_HCG'], errors='coerce')\n",
    "        df['II_beta_HCG'] = df['II_beta_HCG'].astype(float)\n",
    "        df.loc[:, 'II_beta_HCG'] = df['II_beta_HCG'].fillna(df['II_beta_HCG'].median())\n",
    "\n",
    "    if 'AMHng_mL' in df.columns:\n",
    "        df.loc[:, 'AMHng_mL'] = pd.to_numeric(df['AMHng_mL'], errors='coerce')\n",
    "        df['AMHng_mL'] = df['AMHng_mL'].astype(float)\n",
    "        df.loc[:, 'AMHng_mL'] = df['AMHng_mL'].fillna(df['AMHng_mL'].median())\n",
    "\n",
    "    return df"
   ]
  },
  {
   "cell_type": "code",
   "execution_count": 4,
   "id": "9783e46b-bfee-4ba4-96d8-1c2241513935",
   "metadata": {},
   "outputs": [],
   "source": [
    "# Apply preprocessing\n",
    "original_clean = preprocess(original)\n",
    "new_clean = preprocess(new)\n",
    "\n",
    "# Ensure consistent columns across both\n",
    "all_columns = list(set(original_clean.columns).union(set(new_clean.columns)))\n",
    "\n",
    "# Align both dataframes to same columns, fill missing with NaN\n",
    "original_aligned = original_clean.reindex(columns=all_columns)\n",
    "new_aligned = new_clean.reindex(columns=all_columns)\n",
    "\n",
    "# Concatenate datasets\n",
    "combined_df = pd.concat([original_aligned, new_aligned], ignore_index=True)"
   ]
  },
  {
   "cell_type": "code",
   "execution_count": 5,
   "id": "26bdf1a3-5c90-4ba1-b3f9-38b2694f3892",
   "metadata": {},
   "outputs": [],
   "source": [
    "# Separate features and target\n",
    "# X = combined_df.drop(columns=['PCOS_Y_N'])\n",
    "X = combined_df.drop(columns=['PCOS_Y_N'])\n",
    "y = combined_df['PCOS_Y_N']\n",
    "\n",
    "# Initialize KNNImputer (e.g., with 5 nearest neighbors)\n",
    "knn_imputer = KNNImputer(n_neighbors=5)\n",
    "\n",
    "X = pd.DataFrame(knn_imputer.fit_transform(X), columns=X.columns)\n",
    "\n",
    "# Sanitize feature names\n",
    "X.columns = [str(col).replace(' ', '_')\n",
    "                        .replace('\"', '')\n",
    "                        .replace(\"'\", '')\n",
    "                        .replace('[', '')\n",
    "                        .replace(']', '')\n",
    "                        .replace('{', '')\n",
    "                        .replace('}', '')\n",
    "                        .replace(':', '')\n",
    "                        .replace(',', '')\n",
    "                        for col in X.columns]"
   ]
  },
  {
   "cell_type": "code",
   "execution_count": 6,
   "id": "a5791e93-16c2-486c-9d03-954ec9896528",
   "metadata": {},
   "outputs": [],
   "source": [
    "scaler = StandardScaler()\n",
    "X_scaled = scaler.fit_transform(X)\n",
    "X = pd.DataFrame(X_scaled, columns=X.columns)"
   ]
  },
  {
   "cell_type": "code",
   "execution_count": 7,
   "id": "994d30ac-4d7e-4a6f-82a0-b3bcce9357a5",
   "metadata": {},
   "outputs": [
    {
     "name": "stdout",
     "output_type": "stream",
     "text": [
      "Fitting estimator with 44 features.\n",
      "Fitting estimator with 42 features.\n",
      "Fitting estimator with 40 features.\n",
      "Fitting estimator with 38 features.\n",
      "Fitting estimator with 36 features.\n",
      "Fitting estimator with 34 features.\n",
      "Fitting estimator with 32 features.\n",
      "Fitting estimator with 30 features.\n",
      "Fitting estimator with 28 features.\n",
      "Fitting estimator with 26 features.\n",
      "Fitting estimator with 24 features.\n",
      "Index(['Hipinch', 'Age', 'hair_growthY_N', 'Fast_food_Y_N',\n",
      "       'Testosterone_Levelng_dL', 'Follicle_No_R', 'Follicle_No_L', 'PRLng_mL',\n",
      "       'TSH_mIU_L', 'CycleR_I', 'Menstrual_Irregularity', 'Cycle_lengthdays',\n",
      "       'FSH_LH', 'Weight_Kg', 'BMI', 'Skin_darkening_Y_N', 'Weight_gainY_N',\n",
      "       'Antral_Follicle_Count', 'AMHng_mL', 'Waistinch', 'LHmIU_mL',\n",
      "       'FSHmIU_mL'],\n",
      "      dtype='object') 22\n"
     ]
    }
   ],
   "source": [
    "model = RandomForestClassifier(n_estimators=100, random_state=8)\n",
    "rfecv = RFECV(estimator=model, step=2, cv=5, scoring='accuracy', n_jobs=-1, verbose=1)\n",
    "rfecv.fit(X, y)\n",
    "selected_mask = rfecv.support_\n",
    "selected_features = X.columns[selected_mask]\n",
    "X = X[selected_features]\n",
    "print(selected_features, len(selected_features))"
   ]
  },
  {
   "cell_type": "code",
   "execution_count": 8,
   "id": "cdf13406-192b-42a6-a10f-14701d71b5cb",
   "metadata": {},
   "outputs": [],
   "source": [
    "x_train, x_test, y_train, y_test = train_test_split(X, y, test_size=0.15, stratify=y, shuffle=True, random_state=8)"
   ]
  },
  {
   "cell_type": "code",
   "execution_count": 9,
   "id": "d4ab4fe0-560e-4eb7-9338-ee7d4c1fbbe7",
   "metadata": {},
   "outputs": [],
   "source": [
    "# Define the objective function for Random Forest\n",
    "def objective(trial):\n",
    "    # Define hyperparameters for Random Forest\n",
    "    param = {\n",
    "        \"n_estimators\": trial.suggest_int(\"n_estimators\", 50, 200),\n",
    "        \"max_depth\": trial.suggest_int(\"max_depth\", 3, 12, log=True),\n",
    "        \"min_samples_split\": trial.suggest_int(\"min_samples_split\", 2, 10),\n",
    "        \"min_samples_leaf\": trial.suggest_int(\"min_samples_leaf\", 1, 10),\n",
    "        \"max_features\": trial.suggest_categorical(\"max_features\", [\"sqrt\", \"log2\", None]),\n",
    "        \"random_state\": 42  # Set a fixed random seed for reproducibility\n",
    "    }\n",
    "\n",
    "    # Train the Random Forest model with the suggested hyperparameters\n",
    "    model = RandomForestClassifier(**param)\n",
    "    model.fit(x_train, y_train)\n",
    "\n",
    "    # Predict on the validation set\n",
    "    preds = model.predict(x_test)\n",
    "\n",
    "    # Calculate accuracy\n",
    "    acc = accuracy_score(y_test, preds)\n",
    "\n",
    "    # Return the negative accuracy because Optuna minimizes the objective\n",
    "    return 1.0 - acc  # Minimize the error (lower is better)"
   ]
  },
  {
   "cell_type": "code",
   "execution_count": 10,
   "id": "8cbc014e-4cac-41ef-ae3a-80711f6985e7",
   "metadata": {},
   "outputs": [
    {
     "name": "stderr",
     "output_type": "stream",
     "text": [
      "[I 2025-05-31 20:57:59,835] A new study created in memory with name: no-name-a486dcfc-3e94-4421-acef-174121669c7c\n",
      "[I 2025-05-31 20:57:59,992] Trial 0 finished with value: 0.1637931034482759 and parameters: {'n_estimators': 189, 'max_depth': 3, 'min_samples_split': 6, 'min_samples_leaf': 6, 'max_features': 'log2'}. Best is trial 0 with value: 0.1637931034482759.\n",
      "[I 2025-05-31 20:58:00,272] Trial 1 finished with value: 0.06034482758620685 and parameters: {'n_estimators': 86, 'max_depth': 5, 'min_samples_split': 6, 'min_samples_leaf': 6, 'max_features': None}. Best is trial 1 with value: 0.06034482758620685.\n",
      "[I 2025-05-31 20:58:00,988] Trial 2 finished with value: 0.030172413793103425 and parameters: {'n_estimators': 177, 'max_depth': 11, 'min_samples_split': 2, 'min_samples_leaf': 7, 'max_features': None}. Best is trial 2 with value: 0.030172413793103425.\n",
      "[I 2025-05-31 20:58:01,136] Trial 3 finished with value: 0.0431034482758621 and parameters: {'n_estimators': 145, 'max_depth': 5, 'min_samples_split': 7, 'min_samples_leaf': 5, 'max_features': 'log2'}. Best is trial 2 with value: 0.030172413793103425.\n",
      "[I 2025-05-31 20:58:01,785] Trial 4 finished with value: 0.030172413793103425 and parameters: {'n_estimators': 168, 'max_depth': 8, 'min_samples_split': 7, 'min_samples_leaf': 9, 'max_features': None}. Best is trial 2 with value: 0.030172413793103425.\n",
      "[I 2025-05-31 20:58:01,930] Trial 5 finished with value: 0.09482758620689657 and parameters: {'n_estimators': 156, 'max_depth': 4, 'min_samples_split': 2, 'min_samples_leaf': 2, 'max_features': 'log2'}. Best is trial 2 with value: 0.030172413793103425.\n",
      "[I 2025-05-31 20:58:02,167] Trial 6 finished with value: 0.025862068965517238 and parameters: {'n_estimators': 58, 'max_depth': 8, 'min_samples_split': 3, 'min_samples_leaf': 5, 'max_features': None}. Best is trial 6 with value: 0.025862068965517238.\n",
      "[I 2025-05-31 20:58:02,685] Trial 7 finished with value: 0.03448275862068961 and parameters: {'n_estimators': 163, 'max_depth': 5, 'min_samples_split': 5, 'min_samples_leaf': 10, 'max_features': None}. Best is trial 6 with value: 0.025862068965517238.\n",
      "[I 2025-05-31 20:58:02,792] Trial 8 finished with value: 0.025862068965517238 and parameters: {'n_estimators': 84, 'max_depth': 9, 'min_samples_split': 7, 'min_samples_leaf': 7, 'max_features': 'sqrt'}. Best is trial 6 with value: 0.025862068965517238.\n",
      "[I 2025-05-31 20:58:03,392] Trial 9 finished with value: 0.03448275862068961 and parameters: {'n_estimators': 165, 'max_depth': 6, 'min_samples_split': 6, 'min_samples_leaf': 5, 'max_features': None}. Best is trial 6 with value: 0.025862068965517238.\n",
      "[I 2025-05-31 20:58:03,471] Trial 10 finished with value: 0.025862068965517238 and parameters: {'n_estimators': 53, 'max_depth': 12, 'min_samples_split': 10, 'min_samples_leaf': 2, 'max_features': 'sqrt'}. Best is trial 6 with value: 0.025862068965517238.\n",
      "[I 2025-05-31 20:58:03,596] Trial 11 finished with value: 0.03448275862068961 and parameters: {'n_estimators': 98, 'max_depth': 8, 'min_samples_split': 4, 'min_samples_leaf': 8, 'max_features': 'sqrt'}. Best is trial 6 with value: 0.025862068965517238.\n",
      "[I 2025-05-31 20:58:03,676] Trial 12 finished with value: 0.030172413793103425 and parameters: {'n_estimators': 57, 'max_depth': 8, 'min_samples_split': 9, 'min_samples_leaf': 4, 'max_features': 'sqrt'}. Best is trial 6 with value: 0.025862068965517238.\n",
      "[I 2025-05-31 20:58:03,799] Trial 13 finished with value: 0.025862068965517238 and parameters: {'n_estimators': 88, 'max_depth': 10, 'min_samples_split': 4, 'min_samples_leaf': 3, 'max_features': 'sqrt'}. Best is trial 6 with value: 0.025862068965517238.\n",
      "[I 2025-05-31 20:58:03,944] Trial 14 finished with value: 0.03879310344827591 and parameters: {'n_estimators': 115, 'max_depth': 7, 'min_samples_split': 8, 'min_samples_leaf': 8, 'max_features': 'sqrt'}. Best is trial 6 with value: 0.025862068965517238.\n",
      "[I 2025-05-31 20:58:04,258] Trial 15 finished with value: 0.03448275862068961 and parameters: {'n_estimators': 70, 'max_depth': 9, 'min_samples_split': 4, 'min_samples_leaf': 4, 'max_features': None}. Best is trial 6 with value: 0.025862068965517238.\n",
      "[I 2025-05-31 20:58:04,390] Trial 16 finished with value: 0.030172413793103425 and parameters: {'n_estimators': 111, 'max_depth': 6, 'min_samples_split': 3, 'min_samples_leaf': 7, 'max_features': 'sqrt'}. Best is trial 6 with value: 0.025862068965517238.\n",
      "[I 2025-05-31 20:58:04,491] Trial 17 finished with value: 0.025862068965517238 and parameters: {'n_estimators': 74, 'max_depth': 10, 'min_samples_split': 8, 'min_samples_leaf': 7, 'max_features': 'sqrt'}. Best is trial 6 with value: 0.025862068965517238.\n",
      "[I 2025-05-31 20:58:05,035] Trial 18 finished with value: 0.030172413793103425 and parameters: {'n_estimators': 132, 'max_depth': 7, 'min_samples_split': 5, 'min_samples_leaf': 4, 'max_features': None}. Best is trial 6 with value: 0.025862068965517238.\n",
      "[I 2025-05-31 20:58:05,110] Trial 19 finished with value: 0.10344827586206895 and parameters: {'n_estimators': 70, 'max_depth': 4, 'min_samples_split': 3, 'min_samples_leaf': 1, 'max_features': 'log2'}. Best is trial 6 with value: 0.025862068965517238.\n",
      "[I 2025-05-31 20:58:05,486] Trial 20 finished with value: 0.025862068965517238 and parameters: {'n_estimators': 99, 'max_depth': 7, 'min_samples_split': 10, 'min_samples_leaf': 10, 'max_features': None}. Best is trial 6 with value: 0.025862068965517238.\n",
      "[I 2025-05-31 20:58:05,565] Trial 21 finished with value: 0.030172413793103425 and parameters: {'n_estimators': 51, 'max_depth': 12, 'min_samples_split': 10, 'min_samples_leaf': 1, 'max_features': 'sqrt'}. Best is trial 6 with value: 0.025862068965517238.\n",
      "[I 2025-05-31 20:58:05,639] Trial 22 finished with value: 0.03879310344827591 and parameters: {'n_estimators': 50, 'max_depth': 12, 'min_samples_split': 9, 'min_samples_leaf': 3, 'max_features': 'sqrt'}. Best is trial 6 with value: 0.025862068965517238.\n",
      "[I 2025-05-31 20:58:05,728] Trial 23 finished with value: 0.03448275862068961 and parameters: {'n_estimators': 62, 'max_depth': 10, 'min_samples_split': 8, 'min_samples_leaf': 2, 'max_features': 'sqrt'}. Best is trial 6 with value: 0.025862068965517238.\n",
      "[I 2025-05-31 20:58:05,833] Trial 24 finished with value: 0.03448275862068961 and parameters: {'n_estimators': 80, 'max_depth': 9, 'min_samples_split': 9, 'min_samples_leaf': 8, 'max_features': 'sqrt'}. Best is trial 6 with value: 0.025862068965517238.\n",
      "[I 2025-05-31 20:58:05,921] Trial 25 finished with value: 0.02155172413793105 and parameters: {'n_estimators': 64, 'max_depth': 9, 'min_samples_split': 7, 'min_samples_leaf': 6, 'max_features': 'sqrt'}. Best is trial 25 with value: 0.02155172413793105.\n",
      "[I 2025-05-31 20:58:06,050] Trial 26 finished with value: 0.02155172413793105 and parameters: {'n_estimators': 97, 'max_depth': 9, 'min_samples_split': 7, 'min_samples_leaf': 6, 'max_features': 'sqrt'}. Best is trial 25 with value: 0.02155172413793105.\n",
      "[I 2025-05-31 20:58:06,175] Trial 27 finished with value: 0.025862068965517238 and parameters: {'n_estimators': 100, 'max_depth': 7, 'min_samples_split': 5, 'min_samples_leaf': 5, 'max_features': 'sqrt'}. Best is trial 25 with value: 0.02155172413793105.\n",
      "[I 2025-05-31 20:58:06,333] Trial 28 finished with value: 0.025862068965517238 and parameters: {'n_estimators': 124, 'max_depth': 8, 'min_samples_split': 7, 'min_samples_leaf': 6, 'max_features': 'log2'}. Best is trial 25 with value: 0.02155172413793105.\n",
      "[I 2025-05-31 20:58:06,523] Trial 29 finished with value: 0.07327586206896552 and parameters: {'n_estimators': 65, 'max_depth': 4, 'min_samples_split': 6, 'min_samples_leaf': 6, 'max_features': None}. Best is trial 25 with value: 0.02155172413793105.\n",
      "[I 2025-05-31 20:58:06,604] Trial 30 finished with value: 0.1681034482758621 and parameters: {'n_estimators': 92, 'max_depth': 3, 'min_samples_split': 8, 'min_samples_leaf': 6, 'max_features': 'log2'}. Best is trial 25 with value: 0.02155172413793105.\n",
      "[I 2025-05-31 20:58:06,716] Trial 31 finished with value: 0.025862068965517238 and parameters: {'n_estimators': 77, 'max_depth': 9, 'min_samples_split': 7, 'min_samples_leaf': 7, 'max_features': 'sqrt'}. Best is trial 25 with value: 0.02155172413793105.\n",
      "[I 2025-05-31 20:58:06,837] Trial 32 finished with value: 0.030172413793103425 and parameters: {'n_estimators': 82, 'max_depth': 9, 'min_samples_split': 6, 'min_samples_leaf': 5, 'max_features': 'sqrt'}. Best is trial 25 with value: 0.02155172413793105.\n",
      "[I 2025-05-31 20:58:06,987] Trial 33 finished with value: 0.025862068965517238 and parameters: {'n_estimators': 109, 'max_depth': 11, 'min_samples_split': 7, 'min_samples_leaf': 7, 'max_features': 'sqrt'}. Best is trial 25 with value: 0.02155172413793105.\n",
      "[I 2025-05-31 20:58:07,075] Trial 34 finished with value: 0.02155172413793105 and parameters: {'n_estimators': 62, 'max_depth': 10, 'min_samples_split': 6, 'min_samples_leaf': 6, 'max_features': 'sqrt'}. Best is trial 25 with value: 0.02155172413793105.\n",
      "[I 2025-05-31 20:58:07,359] Trial 35 finished with value: 0.030172413793103425 and parameters: {'n_estimators': 62, 'max_depth': 11, 'min_samples_split': 6, 'min_samples_leaf': 5, 'max_features': None}. Best is trial 25 with value: 0.02155172413793105.\n",
      "[I 2025-05-31 20:58:07,452] Trial 36 finished with value: 0.02155172413793105 and parameters: {'n_estimators': 65, 'max_depth': 10, 'min_samples_split': 5, 'min_samples_leaf': 6, 'max_features': 'sqrt'}. Best is trial 25 with value: 0.02155172413793105.\n",
      "[I 2025-05-31 20:58:07,689] Trial 37 finished with value: 0.025862068965517238 and parameters: {'n_estimators': 182, 'max_depth': 10, 'min_samples_split': 5, 'min_samples_leaf': 6, 'max_features': 'sqrt'}. Best is trial 25 with value: 0.02155172413793105.\n",
      "[I 2025-05-31 20:58:07,934] Trial 38 finished with value: 0.0431034482758621 and parameters: {'n_estimators': 195, 'max_depth': 11, 'min_samples_split': 5, 'min_samples_leaf': 9, 'max_features': 'sqrt'}. Best is trial 25 with value: 0.02155172413793105.\n",
      "[I 2025-05-31 20:58:08,036] Trial 39 finished with value: 0.030172413793103425 and parameters: {'n_estimators': 72, 'max_depth': 10, 'min_samples_split': 6, 'min_samples_leaf': 6, 'max_features': 'sqrt'}. Best is trial 25 with value: 0.02155172413793105.\n",
      "[I 2025-05-31 20:58:08,223] Trial 40 finished with value: 0.03879310344827591 and parameters: {'n_estimators': 140, 'max_depth': 11, 'min_samples_split': 7, 'min_samples_leaf': 8, 'max_features': 'sqrt'}. Best is trial 25 with value: 0.02155172413793105.\n",
      "[I 2025-05-31 20:58:08,472] Trial 41 finished with value: 0.025862068965517238 and parameters: {'n_estimators': 59, 'max_depth': 8, 'min_samples_split': 3, 'min_samples_leaf': 5, 'max_features': None}. Best is trial 25 with value: 0.02155172413793105.\n",
      "[I 2025-05-31 20:58:08,558] Trial 42 finished with value: 0.025862068965517238 and parameters: {'n_estimators': 61, 'max_depth': 9, 'min_samples_split': 2, 'min_samples_leaf': 4, 'max_features': 'log2'}. Best is trial 25 with value: 0.02155172413793105.\n",
      "[I 2025-05-31 20:58:08,641] Trial 43 finished with value: 0.030172413793103425 and parameters: {'n_estimators': 67, 'max_depth': 6, 'min_samples_split': 4, 'min_samples_leaf': 6, 'max_features': 'sqrt'}. Best is trial 25 with value: 0.02155172413793105.\n",
      "[I 2025-05-31 20:58:09,021] Trial 44 finished with value: 0.03448275862068961 and parameters: {'n_estimators': 89, 'max_depth': 8, 'min_samples_split': 7, 'min_samples_leaf': 5, 'max_features': None}. Best is trial 25 with value: 0.02155172413793105.\n",
      "[I 2025-05-31 20:58:09,102] Trial 45 finished with value: 0.025862068965517238 and parameters: {'n_estimators': 57, 'max_depth': 10, 'min_samples_split': 6, 'min_samples_leaf': 7, 'max_features': 'sqrt'}. Best is trial 25 with value: 0.02155172413793105.\n",
      "[I 2025-05-31 20:58:09,208] Trial 46 finished with value: 0.02155172413793105 and parameters: {'n_estimators': 78, 'max_depth': 9, 'min_samples_split': 3, 'min_samples_leaf': 6, 'max_features': 'sqrt'}. Best is trial 25 with value: 0.02155172413793105.\n",
      "[I 2025-05-31 20:58:09,338] Trial 47 finished with value: 0.02155172413793105 and parameters: {'n_estimators': 94, 'max_depth': 11, 'min_samples_split': 6, 'min_samples_leaf': 6, 'max_features': 'sqrt'}. Best is trial 25 with value: 0.02155172413793105.\n",
      "[I 2025-05-31 20:58:09,453] Trial 48 finished with value: 0.025862068965517238 and parameters: {'n_estimators': 83, 'max_depth': 12, 'min_samples_split': 5, 'min_samples_leaf': 7, 'max_features': 'sqrt'}. Best is trial 25 with value: 0.02155172413793105.\n",
      "[I 2025-05-31 20:58:09,553] Trial 49 finished with value: 0.030172413793103425 and parameters: {'n_estimators': 76, 'max_depth': 8, 'min_samples_split': 2, 'min_samples_leaf': 7, 'max_features': 'sqrt'}. Best is trial 25 with value: 0.02155172413793105.\n"
     ]
    },
    {
     "name": "stdout",
     "output_type": "stream",
     "text": [
      "Best hyperparameters:\n",
      "{'n_estimators': 64, 'max_depth': 9, 'min_samples_split': 7, 'min_samples_leaf': 6, 'max_features': 'sqrt'}\n",
      "Best accuracy:\n",
      "0.978448275862069\n"
     ]
    }
   ],
   "source": [
    "study = optuna.create_study(direction='minimize')  # Because we return 1 - accuracy\n",
    "study.optimize(objective, n_trials=50)  # Try 50 combinations (or more!)\n",
    "\n",
    "print(\"Best hyperparameters:\")\n",
    "print(study.best_params)\n",
    "\n",
    "print(\"Best accuracy:\")\n",
    "print(1 - study.best_value)"
   ]
  },
  {
   "cell_type": "code",
   "execution_count": 11,
   "id": "141e2527-31b6-4b90-a1c4-0ae0a312bc0f",
   "metadata": {},
   "outputs": [
    {
     "name": "stdout",
     "output_type": "stream",
     "text": [
      "\n",
      "Final evaluation on test set:\n",
      "Accuracy: 97.84\n",
      "Precision: 98.15\n",
      "Recall: 92.98\n",
      "F1 Score: 95.50\n"
     ]
    }
   ],
   "source": [
    "# Get the data\n",
    "best_model = RandomForestClassifier(**study.best_params)\n",
    "best_model.fit(x_train, y_train)\n",
    "\n",
    "# Predict\n",
    "preds = best_model.predict(x_test)\n",
    "\n",
    "# Compute final scores\n",
    "acc = accuracy_score(y_test, preds)\n",
    "precision = precision_score(y_test, preds, average='binary')\n",
    "recall = recall_score(y_test, preds, average='binary')\n",
    "f1 = f1_score(y_test, preds, average='binary')\n",
    "\n",
    "print(\"\\nFinal evaluation on test set:\")\n",
    "print(f\"Accuracy: {acc * 100:.2f}\")\n",
    "print(f\"Precision: {precision * 100:.2f}\")\n",
    "print(f\"Recall: {recall * 100:.2f}\")\n",
    "print(f\"F1 Score: {f1 * 100:.2f}\")\n"
   ]
  },
  {
   "cell_type": "code",
   "execution_count": null,
   "id": "f9d5ae9e-836f-4a88-a42f-7aa283047b97",
   "metadata": {},
   "outputs": [],
   "source": []
  }
 ],
 "metadata": {
  "kernelspec": {
   "display_name": "Python 3 (ipykernel)",
   "language": "python",
   "name": "python3"
  },
  "language_info": {
   "codemirror_mode": {
    "name": "ipython",
    "version": 3
   },
   "file_extension": ".py",
   "mimetype": "text/x-python",
   "name": "python",
   "nbconvert_exporter": "python",
   "pygments_lexer": "ipython3",
   "version": "3.11.12"
  }
 },
 "nbformat": 4,
 "nbformat_minor": 5
}
